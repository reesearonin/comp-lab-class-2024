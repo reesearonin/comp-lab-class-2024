{
 "cells": [
  {
   "cell_type": "code",
   "execution_count": 9,
   "id": "73d1ad90-baae-4cb8-94f5-a64959236416",
   "metadata": {},
   "outputs": [],
   "source": [
    "import mdtraj as md\n",
    "import numpy as np\n",
    "\n",
    "\n",
    "# Define the path to your structure file\n",
    "file_path = 'Data/1UBQ_processed.pdb'  # Update this path as needed\n",
    "\n",
    "# Load the structure file\n",
    "traj = md.load(file_path)"
   ]
  },
  {
   "cell_type": "code",
   "execution_count": 10,
   "id": "8628b0b6-24c0-4757-b067-54e27d85792e",
   "metadata": {},
   "outputs": [
    {
     "name": "stdout",
     "output_type": "stream",
     "text": [
      "Number of atoms: 1405\n",
      "Number of residues: 134\n",
      "Topology:\n",
      "<mdtraj.Topology with 2 chains, 134 residues, 1405 atoms, 1353 bonds>\n"
     ]
    }
   ],
   "source": [
    "print(f\"Number of atoms: {traj.n_atoms}\")\n",
    "print(f\"Number of residues: {traj.n_residues}\")\n",
    "print(f\"Topology:\\n{traj.topology}\")"
   ]
  },
  {
   "cell_type": "code",
   "execution_count": 11,
   "id": "a12036ec-7921-4d7c-a2ae-fd2dad967751",
   "metadata": {},
   "outputs": [
    {
     "name": "stdout",
     "output_type": "stream",
     "text": [
      "First few secondary structure assignments:\n",
      "['C' 'E' 'E' 'E' 'E' 'E' 'E' 'C' 'C' 'C' 'C' 'E' 'E' 'E' 'E' 'E' 'C' 'C'\n",
      " 'C' 'C']\n"
     ]
    }
   ],
   "source": [
    "# Compute secondary structure using DSSP\n",
    "dssp = md.compute_dssp(traj)[0]  # Compute DSSP and get the secondary structure assignment\n",
    "\n",
    "# Print the first few DSSP assignments for inspection\n",
    "print(\"First few secondary structure assignments:\")\n",
    "print(dssp[:20])\n"
   ]
  },
  {
   "cell_type": "code",
   "execution_count": 12,
   "id": "843d84a1-7383-4ff2-9b52-8059f21abd2b",
   "metadata": {},
   "outputs": [
    {
     "name": "stdout",
     "output_type": "stream",
     "text": [
      "Total number of helical amino acids: 18\n"
     ]
    }
   ],
   "source": [
    "# Define the DSSP secondary structure code for helices\n",
    "helix_code = 'H'  # DSSP code for alpha-helix\n",
    "\n",
    "# Count the number of helical residues\n",
    "helical_residues = np.sum(dssp == helix_code)\n",
    "print(f\"Total number of helical amino acids: {helical_residues}\")\n"
   ]
  },
  {
   "cell_type": "code",
   "execution_count": 17,
   "id": "837c0606-01bf-4336-af35-b61ccbbf250a",
   "metadata": {},
   "outputs": [
    {
     "name": "stdout",
     "output_type": "stream",
     "text": [
      "Total number of hydrogen bonds: 2210\n"
     ]
    }
   ],
   "source": [
    "def compute_hydrogen_bonds(traj, distance_cutoff=.35, angle_cutoff=30.0):\n",
    "    \"\"\"\n",
    "    Compute hydrogen bonds in the trajectory based on distance and angle cutoffs.\n",
    "\n",
    "    Parameters:\n",
    "    traj : mdtraj.Trajectory\n",
    "        The trajectory object to analyze.\n",
    "    distance_cutoff : float\n",
    "        The maximum distance (in Angstroms) for a hydrogen bond.\n",
    "    angle_cutoff : float\n",
    "        The minimum angle (in degrees) for a hydrogen bond.\n",
    "\n",
    "    Returns:\n",
    "    int\n",
    "        Total number of hydrogen bonds.\n",
    "    \"\"\"\n",
    "    # Get topology and positions\n",
    "    topology = traj.topology\n",
    "    positions = traj.xyz[0]  # Take the first frame for static analysis\n",
    "\n",
    "    # Select potential hydrogen bond donors (hydrogens) and acceptors (oxygens, nitrogens)\n",
    "    donors = topology.select('element H')\n",
    "    acceptors = topology.select('element O N')\n",
    "    \n",
    "    hbonds = []\n",
    "\n",
    "    for donor in donors:\n",
    "        donor_pos = positions[donor]\n",
    "        for acceptor in acceptors:\n",
    "            acceptor_pos = positions[acceptor]\n",
    "            \n",
    "            # Calculate distance\n",
    "            distance = np.linalg.norm(donor_pos - acceptor_pos)\n",
    "            \n",
    "            if distance < distance_cutoff:\n",
    "                # Calculate the angle (assuming donor-hydrogen-acceptor)\n",
    "                # Use additional code for angle calculation if necessary\n",
    "                hbonds.append((donor, acceptor))\n",
    "    \n",
    "    return len(hbonds)\n",
    "\n",
    "# Compute the number of hydrogen bonds\n",
    "num_hbonds = compute_hydrogen_bonds(traj)\n",
    "\n",
    "# Print the total number of hydrogen bonds\n",
    "print(f\"Total number of hydrogen bonds: {num_hbonds}\")\n"
   ]
  },
  {
   "cell_type": "code",
   "execution_count": 20,
   "id": "783944cf-7864-4777-b942-df3d2abbbb01",
   "metadata": {},
   "outputs": [
    {
     "name": "stdout",
     "output_type": "stream",
     "text": [
      "MET1-N -- VAL17-O\n",
      "ILE3-N -- LEU15-O\n",
      "PHE4-N -- SER65-O\n",
      "VAL5-N -- ILE13-O\n",
      "LYS6-N -- LEU67-O\n",
      "THR7-N -- LYS11-O\n",
      "THR9-N -- THR7-OG1\n",
      "GLY10-N -- THR7-O\n",
      "ILE13-N -- VAL5-O\n",
      "LEU15-N -- ILE3-O\n",
      "VAL17-N -- MET1-O\n",
      "GLU18-N -- ASP21-OD2\n",
      "ASP21-N -- GLU18-O\n",
      "ILE23-N -- ARG54-O\n",
      "GLU24-N -- ASP52-O\n",
      "ASN25-N -- THR22-OG1\n",
      "ASN25-N -- THR22-O\n",
      "VAL26-N -- THR22-O\n",
      "LYS27-N -- ILE23-O\n",
      "LYS27-NZ -- ASP52-OD2\n",
      "ALA28-N -- GLU24-O\n",
      "LYS29-N -- ASN25-O\n",
      "LYS29-NZ -- GLU16-O\n",
      "ILE30-N -- VAL26-O\n",
      "GLN31-N -- LYS27-O\n",
      "ASP32-N -- ALA28-O\n",
      "LYS33-N -- LYS29-O\n",
      "GLU34-N -- ILE30-O\n",
      "GLY35-N -- GLN31-O\n",
      "GLN40-N -- PRO37-O\n",
      "GLN41-N -- PRO38-O\n",
      "GLN41-NE2 -- ILE36-O\n",
      "GLN41-NE2 -- LYS27-O\n",
      "ARG42-N -- VAL70-O\n",
      "ARG42-NE -- GLN49-NE2\n",
      "ILE44-N -- HIS68-O\n",
      "PHE45-N -- LYS48-O\n",
      "LYS48-N -- PHE45-O\n",
      "LEU50-N -- LEU43-O\n",
      "GLU51-N -- TYR59-OH\n",
      "ARG54-N -- GLU51-O\n",
      "THR55-N -- ASP58-OD1\n",
      "LEU56-N -- ASP21-O\n",
      "SER57-N -- PRO19-O\n",
      "ASP58-N -- THR55-OG1\n",
      "ASP58-N -- THR55-O\n",
      "TYR59-N -- LEU56-O\n",
      "ASN60-N -- SER57-O\n",
      "ILE61-N -- LEU56-O\n",
      "GLU64-N -- GLN2-O\n",
      "SER65-N -- GLN62-O\n",
      "LEU67-N -- PHE4-O\n",
      "HIS68-N -- ILE44-O\n",
      "LEU69-N -- LYS6-O\n",
      "VAL70-N -- ARG42-O\n",
      "ARG72-N -- GLN40-O\n",
      "ARG72-NH2 -- GLN41-O\n",
      "57\n"
     ]
    }
   ],
   "source": [
    "hbonds = md.baker_hubbard(traj, periodic=False)\n",
    "label = lambda hbond : '%s -- %s' % (traj.topology.atom(hbond[0]), traj.topology.atom(hbond[2]))\n",
    "for hbond in hbonds:\n",
    "    print(label(hbond))\n",
    "print(len(hbonds))"
   ]
  },
  {
   "cell_type": "code",
   "execution_count": null,
   "id": "dafc92f4-74e4-4c92-8977-05d95a70bff6",
   "metadata": {},
   "outputs": [],
   "source": []
  }
 ],
 "metadata": {
  "kernelspec": {
   "display_name": "lab_env_2024",
   "language": "python",
   "name": "lab_env_2024"
  },
  "language_info": {
   "codemirror_mode": {
    "name": "ipython",
    "version": 3
   },
   "file_extension": ".py",
   "mimetype": "text/x-python",
   "name": "python",
   "nbconvert_exporter": "python",
   "pygments_lexer": "ipython3",
   "version": "3.9.12"
  }
 },
 "nbformat": 4,
 "nbformat_minor": 5
}
